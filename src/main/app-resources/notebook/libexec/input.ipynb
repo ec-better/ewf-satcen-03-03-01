{
 "cells": [
  {
   "cell_type": "markdown",
   "metadata": {
    "slideshow": {
     "slide_type": "skip"
    }
   },
   "source": [
    "## Sentinel-1 burned area identification "
   ]
  },
  {
   "cell_type": "markdown",
   "metadata": {},
   "source": [
    "### Service Definition"
   ]
  },
  {
   "cell_type": "code",
   "execution_count": 32,
   "metadata": {
    "collapsed": true
   },
   "outputs": [],
   "source": [
    "service = dict([('title', 'Sentinel-1 burned area identification'),\n",
    "                ('abstract', 'Sentinel-1 burned area identification'),\n",
    "                ('id', 'ewf-satcen-03-03-01')])"
   ]
  },
  {
   "cell_type": "markdown",
   "metadata": {},
   "source": [
    "### Runtime parameter definition"
   ]
  },
  {
   "cell_type": "code",
   "execution_count": 33,
   "metadata": {},
   "outputs": [],
   "source": [
    "polarization = dict([('id', 'polarization'),\n",
    "                     ('title', 'Polarization'),\n",
    "                     ('abstract', 'Polarization'),\n",
    "                     ('value', 'VV')])"
   ]
  },
  {
   "cell_type": "code",
   "execution_count": 34,
   "metadata": {},
   "outputs": [],
   "source": [
    "aoi = dict([('id', 'aoi'),\n",
    "              ('title', 'Area of interest'),\n",
    "              ('abstract', 'Area of interest'),\n",
    "              ('value', 'POLYGON ((149.1733316344 -34.3218325277, 150.3652377054 -34.2948655567, 150.4056772124 -35.2832818792, 149.1994838956 -35.3112545059, 149.1733316344 -34.3218325277))')])"
   ]
  },
  {
   "cell_type": "code",
   "execution_count": 35,
   "metadata": {},
   "outputs": [],
   "source": [
    "epsg_code = dict([('id', 'epsg'),\n",
    "                  ('title', 'EPSG code'),\n",
    "                  ('abstract', 'EPSG code (example: EPSG:32632)'),\n",
    "                  ('value', 'EPSG:32755')])"
   ]
  },
  {
   "cell_type": "code",
   "execution_count": 36,
   "metadata": {},
   "outputs": [],
   "source": [
    "resolution = dict([('id', 'resolution'),\n",
    "                  ('title', 'Resolution in meters (5.0 or 10.0)'),\n",
    "                  ('abstract', 'Resolution in meters (5.0 or 10.0)'),\n",
    "                  ('value', '10.0')])"
   ]
  },
  {
   "cell_type": "code",
   "execution_count": 37,
   "metadata": {},
   "outputs": [],
   "source": [
    "orbit_type = dict([('id', 'orbit_type'),\n",
    "                   ('title', 'Orbit type, Restituted or Precise'),\n",
    "                   ('abstract', 'Orbit type, Restituted or Precise'),\n",
    "                   ('value', 'Precise')])"
   ]
  },
  {
   "cell_type": "code",
   "execution_count": 38,
   "metadata": {},
   "outputs": [],
   "source": [
    "cde = dict([('id', 'change_detection_expression'),\n",
    "            ('title', 'Change detecton expression'),\n",
    "            ('abstract', 'Change detecton expression: {0} corresponds to the master, {1} to the slave'),\n",
    "            ('value', '({0} > 0.0001) && ({1} > 0.0001) && (abs(log10({0} / {1})) > 1) && ({0} > 0.05 || {1} > 0.05)')])"
   ]
  },
  {
   "cell_type": "markdown",
   "metadata": {},
   "source": [
    "**Input identifiers**"
   ]
  },
  {
   "cell_type": "code",
   "execution_count": 39,
   "metadata": {
    "collapsed": true
   },
   "outputs": [],
   "source": [
    "input_identifiers = ['S1A_IW_GRDH_1SDV_20191025T191551_20191025T191616_029619_035F6B_CC56',\n",
    "                     'S1A_IW_GRDH_1SDV_20191212T191551_20191212T191616_030319_0377C8_5456']"
   ]
  },
  {
   "cell_type": "markdown",
   "metadata": {},
   "source": [
    "**Input references**"
   ]
  },
  {
   "cell_type": "code",
   "execution_count": 40,
   "metadata": {
    "collapsed": false,
    "slideshow": {
     "slide_type": "subslide"
    }
   },
   "outputs": [],
   "source": [
    "input_references = ['https://catalog.terradue.com/sentinel1/search?format=json&uid=S1A_IW_GRDH_1SDV_20191025T191551_20191025T191616_029619_035F6B_CC56',\n",
    "                    'https://catalog.terradue.com/sentinel1/search?format=json&uid=S1A_IW_GRDH_1SDV_20191212T191551_20191212T191616_030319_0377C8_5456']"
   ]
  },
  {
   "cell_type": "markdown",
   "metadata": {
    "slideshow": {
     "slide_type": "slide"
    }
   },
   "source": [
    "**Data path**\n",
    "\n",
    "This path defines where the data is staged-in. "
   ]
  },
  {
   "cell_type": "code",
   "execution_count": 41,
   "metadata": {
    "collapsed": true
   },
   "outputs": [],
   "source": [
    "data_path = '/workspace/data'"
   ]
  },
  {
   "cell_type": "markdown",
   "metadata": {},
   "source": [
    "### Workflow"
   ]
  },
  {
   "cell_type": "markdown",
   "metadata": {},
   "source": [
    "#### Import the packages required for processing the data"
   ]
  },
  {
   "cell_type": "code",
   "execution_count": 42,
   "metadata": {
    "collapsed": true
   },
   "outputs": [
    {
     "name": "stdout",
     "output_type": "stream",
     "text": [
      "The autoreload extension is already loaded. To reload it, use:\n",
      "  %reload_ext autoreload\n"
     ]
    }
   ],
   "source": [
    "import os\n",
    "import sys\n",
    "sys.path.append('/application/notebook/libexec/') \n",
    "sys.path.append(os.getcwd())\n",
    "\n",
    "from shapely.wkt import loads\n",
    "\n",
    "from helpers import *\n",
    "\n",
    "sys.path.append('/opt/OTB/lib/python')\n",
    "sys.path.append('/opt/OTB/lib/libfftw3.so.3')\n",
    "os.environ['OTB_APPLICATION_PATH'] = '/opt/OTB/lib/otb/applications'\n",
    "os.environ['LD_LIBRARY_PATH'] = '/opt/OTB/lib'\n",
    "os.environ['ITK_AUTOLOAD_PATH'] = '/opt/OTB/lib/otb/applications'\n",
    "import shutil\n",
    "\n",
    "import otbApplication\n",
    "\n",
    "%load_ext autoreload\n",
    "%autoreload 2"
   ]
  },
  {
   "cell_type": "code",
   "execution_count": 43,
   "metadata": {},
   "outputs": [],
   "source": [
    "products = get_metadata(input_references, data_path)"
   ]
  },
  {
   "cell_type": "code",
   "execution_count": 44,
   "metadata": {},
   "outputs": [],
   "source": [
    "products.sort_values(by='startdate',ascending=True,inplace=True)\n"
   ]
  },
  {
   "cell_type": "code",
   "execution_count": 45,
   "metadata": {},
   "outputs": [
    {
     "data": {
      "text/html": [
       "<div>\n",
       "<style scoped>\n",
       "    .dataframe tbody tr th:only-of-type {\n",
       "        vertical-align: middle;\n",
       "    }\n",
       "\n",
       "    .dataframe tbody tr th {\n",
       "        vertical-align: top;\n",
       "    }\n",
       "\n",
       "    .dataframe thead th {\n",
       "        text-align: right;\n",
       "    }\n",
       "</style>\n",
       "<table border=\"1\" class=\"dataframe\">\n",
       "  <thead>\n",
       "    <tr style=\"text-align: right;\">\n",
       "      <th></th>\n",
       "      <th>enclosure</th>\n",
       "      <th>enddate</th>\n",
       "      <th>identifier</th>\n",
       "      <th>orbitDirection</th>\n",
       "      <th>orbitNumber</th>\n",
       "      <th>self</th>\n",
       "      <th>startdate</th>\n",
       "      <th>track</th>\n",
       "      <th>wkt</th>\n",
       "      <th>local_path</th>\n",
       "    </tr>\n",
       "  </thead>\n",
       "  <tbody>\n",
       "    <tr>\n",
       "      <th>0</th>\n",
       "      <td>https://store.terradue.com/download/sentinel1/...</td>\n",
       "      <td>2019-10-25T19:16:16.9950000Z</td>\n",
       "      <td>S1A_IW_GRDH_1SDV_20191025T191551_20191025T1916...</td>\n",
       "      <td>DESCENDING</td>\n",
       "      <td>29619</td>\n",
       "      <td>https://catalog.terradue.com/sentinel1/search?...</td>\n",
       "      <td>2019-10-25T19:15:51.9970000Z</td>\n",
       "      <td>147</td>\n",
       "      <td>POLYGON((151.373871 -35.427353,151.85788 -33.9...</td>\n",
       "      <td>/workspace/data/S1A_IW_GRDH_1SDV_20191025T1915...</td>\n",
       "    </tr>\n",
       "    <tr>\n",
       "      <th>1</th>\n",
       "      <td>https://store.terradue.com/download/sentinel1/...</td>\n",
       "      <td>2019-12-12T19:16:16.0840000Z</td>\n",
       "      <td>S1A_IW_GRDH_1SDV_20191212T191551_20191212T1916...</td>\n",
       "      <td>DESCENDING</td>\n",
       "      <td>30319</td>\n",
       "      <td>https://catalog.terradue.com/sentinel1/search?...</td>\n",
       "      <td>2019-12-12T19:15:51.0860000Z</td>\n",
       "      <td>147</td>\n",
       "      <td>POLYGON((151.372772 -35.427361,151.856766 -33....</td>\n",
       "      <td>/workspace/data/S1A_IW_GRDH_1SDV_20191212T1915...</td>\n",
       "    </tr>\n",
       "  </tbody>\n",
       "</table>\n",
       "</div>"
      ],
      "text/plain": [
       "                                           enclosure  \\\n",
       "0  https://store.terradue.com/download/sentinel1/...   \n",
       "1  https://store.terradue.com/download/sentinel1/...   \n",
       "\n",
       "                        enddate  \\\n",
       "0  2019-10-25T19:16:16.9950000Z   \n",
       "1  2019-12-12T19:16:16.0840000Z   \n",
       "\n",
       "                                          identifier orbitDirection  \\\n",
       "0  S1A_IW_GRDH_1SDV_20191025T191551_20191025T1916...     DESCENDING   \n",
       "1  S1A_IW_GRDH_1SDV_20191212T191551_20191212T1916...     DESCENDING   \n",
       "\n",
       "  orbitNumber                                               self  \\\n",
       "0       29619  https://catalog.terradue.com/sentinel1/search?...   \n",
       "1       30319  https://catalog.terradue.com/sentinel1/search?...   \n",
       "\n",
       "                      startdate track  \\\n",
       "0  2019-10-25T19:15:51.9970000Z   147   \n",
       "1  2019-12-12T19:15:51.0860000Z   147   \n",
       "\n",
       "                                                 wkt  \\\n",
       "0  POLYGON((151.373871 -35.427353,151.85788 -33.9...   \n",
       "1  POLYGON((151.372772 -35.427361,151.856766 -33....   \n",
       "\n",
       "                                          local_path  \n",
       "0  /workspace/data/S1A_IW_GRDH_1SDV_20191025T1915...  \n",
       "1  /workspace/data/S1A_IW_GRDH_1SDV_20191212T1915...  "
      ]
     },
     "execution_count": 45,
     "metadata": {},
     "output_type": "execute_result"
    }
   ],
   "source": [
    "products"
   ]
  },
  {
   "cell_type": "code",
   "execution_count": 46,
   "metadata": {},
   "outputs": [],
   "source": [
    "try:\n",
    "    aoi_wkt = bbox_to_wkt(aoi['value'])\n",
    "except:\n",
    "    aoi_wkt = aoi['value']"
   ]
  },
  {
   "cell_type": "code",
   "execution_count": 47,
   "metadata": {},
   "outputs": [
    {
     "data": {
      "text/plain": [
       "'POLYGON ((149.1733316344 -34.3218325277, 150.3652377054 -34.2948655567, 150.4056772124 -35.2832818792, 149.1994838956 -35.3112545059, 149.1733316344 -34.3218325277))'"
      ]
     },
     "execution_count": 47,
     "metadata": {},
     "output_type": "execute_result"
    }
   ],
   "source": [
    "aoi_wkt"
   ]
  },
  {
   "cell_type": "code",
   "execution_count": 48,
   "metadata": {},
   "outputs": [
    {
     "name": "stdout",
     "output_type": "stream",
     "text": [
      "<graph>\n",
      "  <version>1.0</version>\n",
      "  <node id=\"Read-0\">\n",
      "    <operator>Read</operator>\n",
      "    <sources/>\n",
      "    <parameters class=\"com.bc.ceres.binding.dom.XppDomElement\">\n",
      "      <formatName/>\n",
      "      <file>/workspace/data/S1A_IW_GRDH_1SDV_20191025T191551_20191025T191616_029619_035F6B_CC56/S1A_IW_GRDH_1SDV_20191025T191551_20191025T191616_029619_035F6B_CC56.SAFE/manifest.safe</file>\n",
      "    </parameters>\n",
      "  </node>\n",
      "  <node id=\"Subset-0\">\n",
      "    <operator>Subset</operator>\n",
      "    <sources>\n",
      "      <sourceProduct refid=\"Read-0\"/>\n",
      "    </sources>\n",
      "    <parameters class=\"com.bc.ceres.binding.dom.XppDomElement\">\n",
      "      <tiePointGridNames/>\n",
      "      <bandNames/>\n",
      "      <subSamplingY>1</subSamplingY>\n",
      "      <subSamplingX>1</subSamplingX>\n",
      "      <region/>\n",
      "      <copyMetadata>true</copyMetadata>\n",
      "      <fullSwath>false</fullSwath>\n",
      "      <geoRegion>POLYGON ((149.1733316344 -34.3218325277, 150.3652377054 -34.2948655567, 150.4056772124 -35.2832818792, 149.1994838956 -35.3112545059, 149.1733316344 -34.3218325277))</geoRegion>\n",
      "    </parameters>\n",
      "  </node>\n",
      "  <node id=\"Apply-Orbit-File-0\">\n",
      "    <operator>Apply-Orbit-File</operator>\n",
      "    <sources>\n",
      "      <sourceProduct refid=\"Subset-0\"/>\n",
      "    </sources>\n",
      "    <parameters class=\"com.bc.ceres.binding.dom.XppDomElement\">\n",
      "      <polyDegree>3</polyDegree>\n",
      "      <orbitType>Sentinel Precise (Auto Download)</orbitType>\n",
      "      <continueOnFail>false</continueOnFail>\n",
      "    </parameters>\n",
      "  </node>\n",
      "  <node id=\"Calibration-0\">\n",
      "    <operator>Calibration</operator>\n",
      "    <sources>\n",
      "      <sourceProduct refid=\"Apply-Orbit-File-0\"/>\n",
      "    </sources>\n",
      "    <parameters class=\"com.bc.ceres.binding.dom.XppDomElement\">\n",
      "      <outputImageInComplex>false</outputImageInComplex>\n",
      "      <createBetaBand>false</createBetaBand>\n",
      "      <sourceBandNames/>\n",
      "      <selectedPolarisations>VV</selectedPolarisations>\n",
      "      <externalAuxFile/>\n",
      "      <outputBetaBand>false</outputBetaBand>\n",
      "      <outputSigmaBand>true</outputSigmaBand>\n",
      "      <auxFile>Latest Auxiliary File</auxFile>\n",
      "      <outputGammaBand>false</outputGammaBand>\n",
      "      <createGammaBand>false</createGammaBand>\n",
      "      <outputImageScaleInDb>false</outputImageScaleInDb>\n",
      "    </parameters>\n",
      "  </node>\n",
      "  <node id=\"Terrain-Correction-0\">\n",
      "    <operator>Terrain-Correction</operator>\n",
      "    <sources>\n",
      "      <sourceProduct refid=\"Calibration-0\"/>\n",
      "    </sources>\n",
      "    <parameters class=\"com.bc.ceres.binding.dom.XppDomElement\">\n",
      "      <applyRadiometricNormalization>false</applyRadiometricNormalization>\n",
      "      <saveSigmaNought>false</saveSigmaNought>\n",
      "      <externalDEMFile/>\n",
      "      <saveLocalIncidenceAngle>false</saveLocalIncidenceAngle>\n",
      "      <alignToStandardGrid>false</alignToStandardGrid>\n",
      "      <saveGammaNought>false</saveGammaNought>\n",
      "      <outputComplex>false</outputComplex>\n",
      "      <sourceBandNames/>\n",
      "      <saveIncidenceAngleFromEllipsoid>false</saveIncidenceAngleFromEllipsoid>\n",
      "      <saveProjectedLocalIncidenceAngle>false</saveProjectedLocalIncidenceAngle>\n",
      "      <externalDEMNoDataValue>0</externalDEMNoDataValue>\n",
      "      <mapProjection>EPSG:32755</mapProjection>\n",
      "      <auxFile>Latest Auxiliary File</auxFile>\n",
      "      <saveDEM>false</saveDEM>\n",
      "      <pixelSpacingInDegree>0</pixelSpacingInDegree>\n",
      "      <incidenceAngleForSigma0>Use projected local incidence angle from DEM</incidenceAngleForSigma0>\n",
      "      <demResamplingMethod>BILINEAR_INTERPOLATION</demResamplingMethod>\n",
      "      <externalAuxFile/>\n",
      "      <saveLatLon>false</saveLatLon>\n",
      "      <saveSelectedSourceBand>true</saveSelectedSourceBand>\n",
      "      <nodataValueAtSea>false</nodataValueAtSea>\n",
      "      <demName>SRTM 1Sec HGT</demName>\n",
      "      <standardGridOriginX>0</standardGridOriginX>\n",
      "      <standardGridOriginY>0</standardGridOriginY>\n",
      "      <pixelSpacingInMeter>10.0</pixelSpacingInMeter>\n",
      "      <incidenceAngleForGamma0>Use projected local incidence angle from DEM</incidenceAngleForGamma0>\n",
      "      <externalDEMApplyEGM>true</externalDEMApplyEGM>\n",
      "      <saveBetaNought>false</saveBetaNought>\n",
      "      <imgResamplingMethod>BILINEAR_INTERPOLATION</imgResamplingMethod>\n",
      "    </parameters>\n",
      "  </node>\n",
      "  <node id=\"Write-0\">\n",
      "    <operator>Write</operator>\n",
      "    <sources>\n",
      "      <sourceProduct refid=\"Terrain-Correction-0\"/>\n",
      "    </sources>\n",
      "    <parameters class=\"com.bc.ceres.binding.dom.XppDomElement\">\n",
      "      <deleteOutputOnFailure>true</deleteOutputOnFailure>\n",
      "      <clearCacheAfterRowWrite>false</clearCacheAfterRowWrite>\n",
      "      <formatName>BEAM-DIMAP</formatName>\n",
      "      <writeEntireTileRows>true</writeEntireTileRows>\n",
      "      <file>S1A_IW_GRDH_1SDV_20191025T191551_20191025T191616_029619_035F6B_CC56</file>\n",
      "    </parameters>\n",
      "  </node>\n",
      "</graph>\n",
      "\n",
      "Processing the graph\n",
      "Process PID: 2988\n",
      "('Executing processing graph\\n....10%....20%....30%....40%....50%....60%....70%....80%....90% done.\\n', 'INFO: org.esa.snap.core.gpf.operators.tooladapter.ToolAdapterIO: Initializing external tool adapters\\nINFO: org.hsqldb.persist.Logger: dataFileCache open start\\n')\n",
      "Done.\n",
      "<graph>\n",
      "  <version>1.0</version>\n",
      "  <node id=\"Read-1\">\n",
      "    <operator>Read</operator>\n",
      "    <sources/>\n",
      "    <parameters class=\"com.bc.ceres.binding.dom.XppDomElement\">\n",
      "      <formatName/>\n",
      "      <file>/workspace/data/S1A_IW_GRDH_1SDV_20191212T191551_20191212T191616_030319_0377C8_5456/S1A_IW_GRDH_1SDV_20191212T191551_20191212T191616_030319_0377C8_5456.SAFE/manifest.safe</file>\n",
      "    </parameters>\n",
      "  </node>\n",
      "  <node id=\"Subset-1\">\n",
      "    <operator>Subset</operator>\n",
      "    <sources>\n",
      "      <sourceProduct refid=\"Read-1\"/>\n",
      "    </sources>\n",
      "    <parameters class=\"com.bc.ceres.binding.dom.XppDomElement\">\n",
      "      <tiePointGridNames/>\n",
      "      <bandNames/>\n",
      "      <subSamplingY>1</subSamplingY>\n",
      "      <subSamplingX>1</subSamplingX>\n",
      "      <region/>\n",
      "      <copyMetadata>true</copyMetadata>\n",
      "      <fullSwath>false</fullSwath>\n",
      "      <geoRegion>POLYGON ((149.1733316344 -34.3218325277, 150.3652377054 -34.2948655567, 150.4056772124 -35.2832818792, 149.1994838956 -35.3112545059, 149.1733316344 -34.3218325277))</geoRegion>\n",
      "    </parameters>\n",
      "  </node>\n",
      "  <node id=\"Apply-Orbit-File-1\">\n",
      "    <operator>Apply-Orbit-File</operator>\n",
      "    <sources>\n",
      "      <sourceProduct refid=\"Subset-1\"/>\n",
      "    </sources>\n",
      "    <parameters class=\"com.bc.ceres.binding.dom.XppDomElement\">\n",
      "      <polyDegree>3</polyDegree>\n",
      "      <orbitType>Sentinel Precise (Auto Download)</orbitType>\n",
      "      <continueOnFail>false</continueOnFail>\n",
      "    </parameters>\n",
      "  </node>\n",
      "  <node id=\"Calibration-1\">\n",
      "    <operator>Calibration</operator>\n",
      "    <sources>\n",
      "      <sourceProduct refid=\"Apply-Orbit-File-1\"/>\n",
      "    </sources>\n",
      "    <parameters class=\"com.bc.ceres.binding.dom.XppDomElement\">\n",
      "      <outputImageInComplex>false</outputImageInComplex>\n",
      "      <createBetaBand>false</createBetaBand>\n",
      "      <sourceBandNames/>\n",
      "      <selectedPolarisations>VV</selectedPolarisations>\n",
      "      <externalAuxFile/>\n",
      "      <outputBetaBand>false</outputBetaBand>\n",
      "      <outputSigmaBand>true</outputSigmaBand>\n",
      "      <auxFile>Latest Auxiliary File</auxFile>\n",
      "      <outputGammaBand>false</outputGammaBand>\n",
      "      <createGammaBand>false</createGammaBand>\n",
      "      <outputImageScaleInDb>false</outputImageScaleInDb>\n",
      "    </parameters>\n",
      "  </node>\n",
      "  <node id=\"Terrain-Correction-1\">\n",
      "    <operator>Terrain-Correction</operator>\n",
      "    <sources>\n",
      "      <sourceProduct refid=\"Calibration-1\"/>\n",
      "    </sources>\n",
      "    <parameters class=\"com.bc.ceres.binding.dom.XppDomElement\">\n",
      "      <applyRadiometricNormalization>false</applyRadiometricNormalization>\n",
      "      <saveSigmaNought>false</saveSigmaNought>\n",
      "      <externalDEMFile/>\n",
      "      <saveLocalIncidenceAngle>false</saveLocalIncidenceAngle>\n",
      "      <alignToStandardGrid>false</alignToStandardGrid>\n",
      "      <saveGammaNought>false</saveGammaNought>\n",
      "      <outputComplex>false</outputComplex>\n",
      "      <sourceBandNames/>\n",
      "      <saveIncidenceAngleFromEllipsoid>false</saveIncidenceAngleFromEllipsoid>\n",
      "      <saveProjectedLocalIncidenceAngle>false</saveProjectedLocalIncidenceAngle>\n",
      "      <externalDEMNoDataValue>0</externalDEMNoDataValue>\n",
      "      <mapProjection>EPSG:32755</mapProjection>\n",
      "      <auxFile>Latest Auxiliary File</auxFile>\n",
      "      <saveDEM>false</saveDEM>\n",
      "      <pixelSpacingInDegree>0</pixelSpacingInDegree>\n",
      "      <incidenceAngleForSigma0>Use projected local incidence angle from DEM</incidenceAngleForSigma0>\n",
      "      <demResamplingMethod>BILINEAR_INTERPOLATION</demResamplingMethod>\n",
      "      <externalAuxFile/>\n",
      "      <saveLatLon>false</saveLatLon>\n",
      "      <saveSelectedSourceBand>true</saveSelectedSourceBand>\n",
      "      <nodataValueAtSea>false</nodataValueAtSea>\n",
      "      <demName>SRTM 1Sec HGT</demName>\n",
      "      <standardGridOriginX>0</standardGridOriginX>\n",
      "      <standardGridOriginY>0</standardGridOriginY>\n",
      "      <pixelSpacingInMeter>10.0</pixelSpacingInMeter>\n",
      "      <incidenceAngleForGamma0>Use projected local incidence angle from DEM</incidenceAngleForGamma0>\n",
      "      <externalDEMApplyEGM>true</externalDEMApplyEGM>\n",
      "      <saveBetaNought>false</saveBetaNought>\n",
      "      <imgResamplingMethod>BILINEAR_INTERPOLATION</imgResamplingMethod>\n",
      "    </parameters>\n",
      "  </node>\n",
      "  <node id=\"Write-1\">\n",
      "    <operator>Write</operator>\n",
      "    <sources>\n",
      "      <sourceProduct refid=\"Terrain-Correction-1\"/>\n",
      "    </sources>\n",
      "    <parameters class=\"com.bc.ceres.binding.dom.XppDomElement\">\n",
      "      <deleteOutputOnFailure>true</deleteOutputOnFailure>\n",
      "      <clearCacheAfterRowWrite>false</clearCacheAfterRowWrite>\n",
      "      <formatName>BEAM-DIMAP</formatName>\n",
      "      <writeEntireTileRows>true</writeEntireTileRows>\n",
      "      <file>S1A_IW_GRDH_1SDV_20191212T191551_20191212T191616_030319_0377C8_5456</file>\n",
      "    </parameters>\n",
      "  </node>\n",
      "</graph>\n",
      "\n",
      "Processing the graph\n",
      "Process PID: 4344\n",
      "('Executing processing graph\\n....10%....20%....30%....40%....50%....60%....70%....80%....90% done.\\n', 'INFO: org.esa.snap.core.gpf.operators.tooladapter.ToolAdapterIO: Initializing external tool adapters\\nINFO: org.hsqldb.persist.Logger: dataFileCache open start\\n')\n",
      "Done.\n"
     ]
    }
   ],
   "source": [
    "pre_process(products=products,\n",
    "             aoi=aoi_wkt,\n",
    "             utm_zone=epsg_code['value'],\n",
    "             resolution=resolution['value'],\n",
    "             polarization=polarization['value'], \n",
    "             orbit_type=orbit_type['value'],\n",
    "             show_graph=True)"
   ]
  },
  {
   "cell_type": "markdown",
   "metadata": {},
   "source": [
    "#### Create the stack with the master and slave"
   ]
  },
  {
   "cell_type": "code",
   "execution_count": 49,
   "metadata": {},
   "outputs": [
    {
     "name": "stdout",
     "output_type": "stream",
     "text": [
      "<graph>\n",
      "  <version>1.0</version>\n",
      "  <node id=\"ProductSet-Reader\">\n",
      "    <operator>ProductSet-Reader</operator>\n",
      "    <sources/>\n",
      "    <parameters class=\"com.bc.ceres.binding.dom.XppDomElement\">\n",
      "      <fileList>S1A_IW_GRDH_1SDV_20191025T191551_20191025T191616_029619_035F6B_CC56.dim,S1A_IW_GRDH_1SDV_20191212T191551_20191212T191616_030319_0377C8_5456.dim</fileList>\n",
      "    </parameters>\n",
      "  </node>\n",
      "  <node id=\"CreateStack\">\n",
      "    <operator>CreateStack</operator>\n",
      "    <sources>\n",
      "      <sourceProduct refid=\"ProductSet-Reader\"/>\n",
      "    </sources>\n",
      "    <parameters class=\"com.bc.ceres.binding.dom.XppDomElement\">\n",
      "      <resamplingType>BICUBIC_INTERPOLATION</resamplingType>\n",
      "      <initialOffsetMethod>Orbit</initialOffsetMethod>\n",
      "      <masterBandNames/>\n",
      "      <slaveBandNames/>\n",
      "      <extent>Minimum</extent>\n",
      "    </parameters>\n",
      "  </node>\n",
      "  <node id=\"Write\">\n",
      "    <operator>Write</operator>\n",
      "    <sources>\n",
      "      <sourceProduct refid=\"CreateStack\"/>\n",
      "    </sources>\n",
      "    <parameters class=\"com.bc.ceres.binding.dom.XppDomElement\">\n",
      "      <deleteOutputOnFailure>true</deleteOutputOnFailure>\n",
      "      <clearCacheAfterRowWrite>false</clearCacheAfterRowWrite>\n",
      "      <formatName>BEAM-DIMAP</formatName>\n",
      "      <writeEntireTileRows>true</writeEntireTileRows>\n",
      "      <file>stack</file>\n",
      "    </parameters>\n",
      "  </node>\n",
      "</graph>\n",
      "\n",
      "Processing the graph\n",
      "Process PID: 5031\n",
      "('Executing processing graph\\n======\\nMaster: 25Oct2019\\nSlave: 25Oct2019 prep baseline: 0.0 temp baseline: 0.0\\nSlave: 12Dec2019 prep baseline: 31.360205 temp baseline: -47.99999\\n\\n======\\nMaster: 12Dec2019\\nSlave: 25Oct2019 prep baseline: -31.36011 temp baseline: 47.99999\\nSlave: 12Dec2019 prep baseline: 0.0 temp baseline: 0.0\\n\\n....10%....20%....30%....40%....50%....60%....70%....80%....90% done.\\n', 'INFO: org.esa.snap.core.gpf.operators.tooladapter.ToolAdapterIO: Initializing external tool adapters\\nINFO: org.hsqldb.persist.Logger: dataFileCache open start\\n-- org.jblas INFO Deleting /tmp/jblas1213524020355940798/libjblas.so\\n-- org.jblas INFO Deleting /tmp/jblas1213524020355940798/libjblas_arch_flavor.so\\n-- org.jblas INFO Deleting /tmp/jblas1213524020355940798\\n')\n",
      "Done.\n"
     ]
    }
   ],
   "source": [
    "create_stack(products)"
   ]
  },
  {
   "cell_type": "code",
   "execution_count": 50,
   "metadata": {},
   "outputs": [],
   "source": [
    "stack_bands = list_bands('stack.dim')"
   ]
  },
  {
   "cell_type": "code",
   "execution_count": 51,
   "metadata": {},
   "outputs": [
    {
     "data": {
      "text/plain": [
       "['Sigma0_VV_mst_25Oct2019', 'Sigma0_VV_slv1_12Dec2019']"
      ]
     },
     "execution_count": 51,
     "metadata": {},
     "output_type": "execute_result"
    }
   ],
   "source": [
    "stack_bands"
   ]
  },
  {
   "cell_type": "markdown",
   "metadata": {},
   "source": [
    "#### Change detection"
   ]
  },
  {
   "cell_type": "code",
   "execution_count": 52,
   "metadata": {},
   "outputs": [],
   "source": [
    "#change_detection_expression = '({0} &gt; 0.0001) &amp;&amp; ({1} &gt; 0.0001) &amp;&amp; (abs(log10({0} / {1})) &gt; 1) &amp;&amp; ({0} &gt; 0.05 || {1} &gt; 0.05)'.format(stack_bands[0], stack_bands[1])"
   ]
  },
  {
   "cell_type": "code",
   "execution_count": 53,
   "metadata": {},
   "outputs": [],
   "source": [
    "change_detection_expression = cde['value'].format(stack_bands[0], stack_bands[1])"
   ]
  },
  {
   "cell_type": "code",
   "execution_count": 54,
   "metadata": {},
   "outputs": [],
   "source": [
    "change_detection_expression = change_detection_expression.replace('&','&amp;').replace('>','&gt;').replace('<','&lt;')"
   ]
  },
  {
   "cell_type": "code",
   "execution_count": 55,
   "metadata": {},
   "outputs": [
    {
     "data": {
      "text/plain": [
       "'(Sigma0_VV_mst_25Oct2019 &gt; 0.0001) &amp;&amp; (Sigma0_VV_slv1_12Dec2019 &gt; 0.0001) &amp;&amp; (abs(log10(Sigma0_VV_mst_25Oct2019 / Sigma0_VV_slv1_12Dec2019)) &gt; 1) &amp;&amp; (Sigma0_VV_mst_25Oct2019 &gt; 0.05 || Sigma0_VV_slv1_12Dec2019 &gt; 0.05)'"
      ]
     },
     "execution_count": 55,
     "metadata": {},
     "output_type": "execute_result"
    }
   ],
   "source": [
    "change_detection_expression"
   ]
  },
  {
   "cell_type": "code",
   "execution_count": 56,
   "metadata": {},
   "outputs": [
    {
     "name": "stdout",
     "output_type": "stream",
     "text": [
      "Processing the graph\n",
      "Process PID: 5868\n",
      "('Executing processing graph\\n....10%....20%....30%....40%....50%....60%....70%....80%....90% done.\\n', 'INFO: org.esa.snap.core.gpf.operators.tooladapter.ToolAdapterIO: Initializing external tool adapters\\nINFO: org.hsqldb.persist.Logger: dataFileCache open start\\n')\n",
      "Done.\n"
     ]
    }
   ],
   "source": [
    "try:\n",
    "    change_detection('stack.dim', 'raw_change_detection.tif', change_detection_expression)\n",
    "except Exception as e:\n",
    "    raise ValueError('Error {} on change_detection_expression {}'.format(e,change_detection_expression))"
   ]
  },
  {
   "cell_type": "markdown",
   "metadata": {},
   "source": [
    "#### Linear to dB"
   ]
  },
  {
   "cell_type": "code",
   "execution_count": 57,
   "metadata": {},
   "outputs": [
    {
     "name": "stdout",
     "output_type": "stream",
     "text": [
      "Processing the graph\n",
      "Process PID: 6071\n",
      "('Executing processing graph\\n....10%....20%....30%....40%....50%....60%....70%....80%....90% done.\\n', 'INFO: org.esa.snap.core.gpf.operators.tooladapter.ToolAdapterIO: Initializing external tool adapters\\nINFO: org.hsqldb.persist.Logger: dataFileCache open start\\n')\n",
      "Done.\n",
      "Processing the graph\n",
      "Process PID: 6189\n",
      "('Executing processing graph\\n....10%....20%....30%....40%....50%....60%....70%....80%....90% done.\\n', 'INFO: org.esa.snap.core.gpf.operators.tooladapter.ToolAdapterIO: Initializing external tool adapters\\nINFO: org.hsqldb.persist.Logger: dataFileCache open start\\n')\n",
      "Done.\n"
     ]
    },
    {
     "data": {
      "text/plain": [
       "['S1A_IW_GRDH_1SDV_20191025T191551_20191025T191616_029619_035F6B_CC56_db.tif',\n",
       " 'S1A_IW_GRDH_1SDV_20191212T191551_20191212T191616_030319_0377C8_5456_db.tif']"
      ]
     },
     "execution_count": 57,
     "metadata": {},
     "output_type": "execute_result"
    }
   ],
   "source": [
    "[convert_dim('{}.dim'.format(n)) for n in products.identifier.values]"
   ]
  },
  {
   "cell_type": "markdown",
   "metadata": {},
   "source": [
    "#### Match the intensities to the dimension of the change detection GeoTIFF\n",
    "\n",
    "Fit the geometries of the master/slave intensities in dB GeoTIFFs to the change_detection GeoTIFF geometry "
   ]
  },
  {
   "cell_type": "code",
   "execution_count": null,
   "metadata": {},
   "outputs": [],
   "source": [
    "import otbApplication\n",
    "\n",
    "for index in range(2):\n",
    "    \n",
    "    Superimpose = otbApplication.Registry.CreateApplication(\"Superimpose\")\n",
    "\n",
    "\n",
    "    Superimpose.SetParameterString('inr', 'raw_change_detection.tif')\n",
    "    Superimpose.SetParameterString('inm', ['{}_db.tif'.format(n) for n in products.identifier.values][index])\n",
    "    Superimpose.SetParameterString('out', ['{}_db_si.tif'.format(n) for n in products.identifier.values][index])\n",
    "\n",
    "    Superimpose.ExecuteAndWriteOutput()\n",
    "    "
   ]
  },
  {
   "cell_type": "code",
   "execution_count": null,
   "metadata": {},
   "outputs": [],
   "source": [
    "['{}_db_si.tif'.format(n) for n in products.identifier.values]"
   ]
  },
  {
   "cell_type": "markdown",
   "metadata": {},
   "source": [
    "#### RGB with intensities\n",
    "\n",
    "Master/slave intensities in dB in red and blue channels. "
   ]
  },
  {
   "cell_type": "code",
   "execution_count": null,
   "metadata": {},
   "outputs": [],
   "source": [
    "r_channel = 'im1b1'\n",
    "g_channel = '0'\n",
    "b_channel = 'im2b1'\n",
    "\n",
    "band_expressions = [r_channel, \n",
    "                    g_channel, \n",
    "                    b_channel]"
   ]
  },
  {
   "cell_type": "code",
   "execution_count": null,
   "metadata": {},
   "outputs": [],
   "source": [
    "create_composite(['{}_db_si.tif'.format(n) for n in products.identifier.values],\n",
    "                 'temp_red_blue_{}.tif'.format('rgb'), \n",
    "                 band_expressions)\n",
    "    "
   ]
  },
  {
   "cell_type": "markdown",
   "metadata": {},
   "source": [
    "#### RGB with intensities and change detection map\n",
    "\n",
    "Prepare the base RGB composite for adding a next step with the change detection in red\n",
    "\n",
    "* red channel: master\n",
    "* green channel: master\n",
    "* blue channel: slave"
   ]
  },
  {
   "cell_type": "code",
   "execution_count": null,
   "metadata": {},
   "outputs": [],
   "source": [
    "r_channel = 'im1b1'\n",
    "g_channel = 'im1b1'\n",
    "b_channel = 'im2b1'\n",
    "\n",
    "band_expressions = [r_channel, \n",
    "                    g_channel, \n",
    "                    b_channel]"
   ]
  },
  {
   "cell_type": "code",
   "execution_count": null,
   "metadata": {},
   "outputs": [],
   "source": [
    "create_composite(['{}_db_si.tif'.format(n) for n in products.identifier.values],\n",
    "                 'temp_red_green_blue_{}.tif'.format('rgb'), \n",
    "                 band_expressions)"
   ]
  },
  {
   "cell_type": "markdown",
   "metadata": {},
   "source": [
    "Convert the change detection to byte, change detection values will become 255\n"
   ]
  },
  {
   "cell_type": "code",
   "execution_count": null,
   "metadata": {},
   "outputs": [],
   "source": [
    "Convert = otbApplication.Registry.CreateApplication('Convert')\n",
    "\n",
    "Convert.SetParameterString('in', 'raw_change_detection.tif')\n",
    "Convert.SetParameterString('out','raw_change_detection_byte.tif')\n",
    "Convert.SetParameterString('type', 'linear')\n",
    "Convert.SetParameterString('channels', 'grayscale')\n",
    "Convert.SetParameterInt('channels.grayscale.channel', 1)\n",
    "\n",
    "Convert.ExecuteAndWriteOutput()\n"
   ]
  },
  {
   "cell_type": "markdown",
   "metadata": {},
   "source": [
    "Create the final RGB replacing the values in the red channel with 255 where there's a change"
   ]
  },
  {
   "cell_type": "code",
   "execution_count": null,
   "metadata": {},
   "outputs": [],
   "source": [
    "r_channel = 'im1b1 == 255 ? im1b1 : im2b1'\n",
    "g_channel = 'im1b1 == 255 ? 0 : im2b2'\n",
    "b_channel = 'im1b1 == 255 ? 0 : im2b3'\n",
    "\n",
    "band_expressions = [r_channel, \n",
    "                    g_channel, \n",
    "                    b_channel]\n",
    "\n",
    "\n",
    "BandMathX = otbApplication.Registry.CreateApplication(\"BandMathX\")\n",
    "\n",
    "BandMathX.SetParameterStringList('il', ['raw_change_detection_byte.tif', 'temp_red_green_blue_{}.tif'.format('rgb')])\n",
    "\n",
    "BandMathX.SetParameterString('out', 'rgb_composite_intensity_cd.tif')\n",
    "BandMathX.SetParameterOutputImagePixelType('out', otbApplication.ImagePixelType_uint8)\n",
    "BandMathX.SetParameterString('exp', ';'.join(band_expressions))\n",
    "\n",
    "BandMathX.ExecuteAndWriteOutput()"
   ]
  },
  {
   "cell_type": "markdown",
   "metadata": {},
   "source": [
    "Create a meaningful output name for the results"
   ]
  },
  {
   "cell_type": "code",
   "execution_count": null,
   "metadata": {},
   "outputs": [],
   "source": [
    "masterID = products.iloc[0].identifier\n",
    "slaveID = products.iloc[1].identifier"
   ]
  },
  {
   "cell_type": "code",
   "execution_count": null,
   "metadata": {},
   "outputs": [],
   "source": [
    "products['startdate'] = pd.to_datetime(products['startdate'])\n",
    "products['enddate'] = pd.to_datetime(products['enddate'])\n",
    "\n",
    "output_startdate = min(products['startdate'])\n",
    "output_stopdate = max(products['enddate'])\n",
    "\n",
    "date_format = '%Y%m%dT%H%m%S'\n",
    "\n",
    "\n",
    "output_name = 'Burned_Area_S1_{0}_{1}'.format(masterID,\n",
    "                                              slaveID)"
   ]
  },
  {
   "cell_type": "markdown",
   "metadata": {},
   "source": [
    "#### Cloud optimized GeoTIFF"
   ]
  },
  {
   "cell_type": "code",
   "execution_count": null,
   "metadata": {},
   "outputs": [],
   "source": [
    "output_name"
   ]
  },
  {
   "cell_type": "code",
   "execution_count": null,
   "metadata": {},
   "outputs": [],
   "source": [
    "# red and blue intensities\n",
    "cog('temp_red_blue_{}.tif'.format('rgb'), '{}-RB.rgb.tif'.format(output_name))"
   ]
  },
  {
   "cell_type": "code",
   "execution_count": null,
   "metadata": {},
   "outputs": [],
   "source": [
    "# RGB with change detection\n",
    "cog('rgb_composite_intensity_cd.tif', '{}-CD.rgb.tif'.format(output_name))"
   ]
  },
  {
   "cell_type": "code",
   "execution_count": null,
   "metadata": {},
   "outputs": [],
   "source": [
    "out_base = '{}-CD.rgb.tif'.format(output_name)[0:-8]\n",
    "out_mask = out_base + '.mask'\n",
    "out_rbb = out_base +'.acd'"
   ]
  },
  {
   "cell_type": "code",
   "execution_count": null,
   "metadata": {},
   "outputs": [],
   "source": [
    "out_mask"
   ]
  },
  {
   "cell_type": "markdown",
   "metadata": {},
   "source": [
    "#### Create the  GeoTiff product with the Mask of changes (0-1 values) "
   ]
  },
  {
   "cell_type": "code",
   "execution_count": null,
   "metadata": {},
   "outputs": [],
   "source": [
    "create_mask('{}-CD.rgb.tif'.format(output_name), '{}.tif'.format(out_mask))"
   ]
  },
  {
   "cell_type": "markdown",
   "metadata": {},
   "source": [
    "#### Create the RGB composite with the intensities as RED=Older_image, GREEN=Newer_image, BLUE=Newer_image"
   ]
  },
  {
   "cell_type": "code",
   "execution_count": null,
   "metadata": {},
   "outputs": [],
   "source": [
    "create_rbb('{}-RB.rgb.tif'.format(output_name), '{}.tif'.format(out_rbb))"
   ]
  },
  {
   "cell_type": "code",
   "execution_count": null,
   "metadata": {},
   "outputs": [],
   "source": [
    "for index, properties_file in enumerate(['result', \n",
    "                                         'stage-in',\n",
    "                                         '{}-RB.rgb'.format(output_name),\n",
    "                                         '{}-CD.rgb'.format(output_name),\n",
    "                                          out_mask, \n",
    "                                          out_rbb]):\n",
    "\n",
    "    date_format = '%Y-%m-%dT%H:%m:%SZ'\n",
    "    \n",
    "    if properties_file == 'result':\n",
    "        \n",
    "        title = 'Reproducibility notebook used for generating {0}'.format(output_name)\n",
    "   \n",
    "    elif properties_file == 'stage-in':\n",
    "\n",
    "        title = 'Reproducibility stage-in notebook for Sentinel-1 data for generating {0}'.format(output_name)\n",
    "        \n",
    "    elif properties_file == out_mask:\n",
    "        \n",
    "        title = 'Mask of changes for {0} to {1}'.format(output_startdate.strftime(date_format),\n",
    "                                                                  output_stopdate.strftime(date_format))\n",
    "        \n",
    "    elif properties_file == out_rbb:\n",
    "        \n",
    "        title = 'RGB composite for {0} to {1}'.format(output_startdate.strftime(date_format),\n",
    "                                                                  output_stopdate.strftime(date_format))\n",
    "    \n",
    "    else:\n",
    "      \n",
    "        title = 'Change detection for {0} to {1}'.format(output_startdate.strftime(date_format),\n",
    "                                                                  output_stopdate.strftime(date_format))\n",
    "    \n",
    "    with open(properties_file + '.properties', 'wb') as file:\n",
    "        file.write('title={0}\\n'.format(title))\n",
    "        file.write('date={0}/{1}\\n'.format(output_startdate.strftime(date_format),\n",
    "                                           output_stopdate.strftime(date_format)))\n",
    "        \n",
    "        if index > 1:\n",
    "            file.write('geometry={0}'.format(get_image_wkt(properties_file + '.tif')))"
   ]
  },
  {
   "cell_type": "code",
   "execution_count": null,
   "metadata": {},
   "outputs": [],
   "source": [
    "os.remove('raw_change_detection_byte.tif')\n",
    "os.remove('raw_change_detection.tif')\n",
    "os.remove('temp_red_green_blue_rgb.tif')"
   ]
  },
  {
   "cell_type": "code",
   "execution_count": null,
   "metadata": {},
   "outputs": [],
   "source": [
    "for index in range(2):\n",
    "    #os.remove(['{}.tif'.format(n) for n in products.identifier.values][index])\n",
    "    os.remove(['{}_db.tif'.format(n) for n in products.identifier.values][index])\n",
    "    os.remove(['{}_db_si.tif'.format(n) for n in products.identifier.values][index])\n",
    "    os.remove(['{}.dim'.format(n) for n in products.identifier.values][index])\n",
    "    shutil.rmtree(['{}.data'.format(n) for n in products.identifier.values][index])"
   ]
  },
  {
   "cell_type": "code",
   "execution_count": null,
   "metadata": {},
   "outputs": [],
   "source": [
    "shutil.rmtree('stack.data')\n",
    "os.remove('stack.dim')"
   ]
  },
  {
   "cell_type": "markdown",
   "metadata": {
    "slideshow": {
     "slide_type": "slide"
    }
   },
   "source": [
    "### License"
   ]
  },
  {
   "cell_type": "markdown",
   "metadata": {
    "slideshow": {
     "slide_type": "subslide"
    }
   },
   "source": [
    "This work is licenced under a [Attribution-ShareAlike 4.0 International License (CC BY-SA 4.0)](http://creativecommons.org/licenses/by-sa/4.0/) \n",
    "\n",
    "YOU ARE FREE TO:\n",
    "\n",
    "* Share - copy and redistribute the material in any medium or format.\n",
    "* Adapt - remix, transform, and built upon the material for any purpose, even commercially.\n",
    "\n",
    "UNDER THE FOLLOWING TERMS:\n",
    "\n",
    "* Attribution - You must give appropriate credit, provide a link to the license, and indicate if changes were made. You may do so in any reasonable manner, but not in any way that suggests the licensor endorses you or your use.\n",
    "* ShareAlike - If you remix, transform, or build upon the material, you must distribute your contributions under the same license as the original."
   ]
  },
  {
   "cell_type": "code",
   "execution_count": null,
   "metadata": {},
   "outputs": [],
   "source": []
  }
 ],
 "metadata": {
  "kernelspec": {
   "display_name": "Python 2",
   "language": "python",
   "name": "python2"
  },
  "language_info": {
   "codemirror_mode": {
    "name": "ipython",
    "version": 2
   },
   "file_extension": ".py",
   "mimetype": "text/x-python",
   "name": "python",
   "nbconvert_exporter": "python",
   "pygments_lexer": "ipython2",
   "version": "2.7.12"
  }
 },
 "nbformat": 4,
 "nbformat_minor": 2
}
